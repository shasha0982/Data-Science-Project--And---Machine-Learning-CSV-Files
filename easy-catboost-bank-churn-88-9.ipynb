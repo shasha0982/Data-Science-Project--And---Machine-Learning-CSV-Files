{
 "cells": [
  {
   "cell_type": "code",
   "execution_count": 1,
   "id": "d18b1fd1",
   "metadata": {
    "_cell_guid": "b1076dfc-b9ad-4769-8c92-a6c4dae69d19",
    "_uuid": "8f2839f25d086af736a60e9eeb907d3b93b6e0e5",
    "execution": {
     "iopub.execute_input": "2024-02-16T11:26:51.360033Z",
     "iopub.status.busy": "2024-02-16T11:26:51.359645Z",
     "iopub.status.idle": "2024-02-16T11:26:52.467182Z",
     "shell.execute_reply": "2024-02-16T11:26:52.465935Z"
    },
    "papermill": {
     "duration": 1.118007,
     "end_time": "2024-02-16T11:26:52.470096",
     "exception": false,
     "start_time": "2024-02-16T11:26:51.352089",
     "status": "completed"
    },
    "tags": []
   },
   "outputs": [
    {
     "name": "stdout",
     "output_type": "stream",
     "text": [
      "/kaggle/input/playground-series-s4e1/sample_submission.csv\n",
      "/kaggle/input/playground-series-s4e1/train.csv\n",
      "/kaggle/input/playground-series-s4e1/test.csv\n"
     ]
    }
   ],
   "source": [
    "# This Python 3 environment comes with many helpful analytics libraries installed\n",
    "# It is defined by the kaggle/python Docker image: https://github.com/kaggle/docker-python\n",
    "# For example, here's several helpful packages to load\n",
    "\n",
    "import numpy as np # linear algebra\n",
    "import pandas as pd # data processing, CSV file I/O (e.g. pd.read_csv)\n",
    "\n",
    "# Input data files are available in the read-only \"../input/\" directory\n",
    "# For example, running this (by clicking run or pressing Shift+Enter) will list all files under the input directory\n",
    "\n",
    "import os\n",
    "for dirname, _, filenames in os.walk('/kaggle/input'):\n",
    "    for filename in filenames:\n",
    "        print(os.path.join(dirname, filename))\n",
    "\n",
    "# You can write up to 20GB to the current directory (/kaggle/working/) that gets preserved as output when you create a version using \"Save & Run All\" \n",
    "# You can also write temporary files to /kaggle/temp/, but they won't be saved outside of the current session"
   ]
  },
  {
   "cell_type": "code",
   "execution_count": 2,
   "id": "47e3304e",
   "metadata": {
    "execution": {
     "iopub.execute_input": "2024-02-16T11:26:52.483224Z",
     "iopub.status.busy": "2024-02-16T11:26:52.482644Z",
     "iopub.status.idle": "2024-02-16T11:26:55.164258Z",
     "shell.execute_reply": "2024-02-16T11:26:55.162952Z"
    },
    "papermill": {
     "duration": 2.691657,
     "end_time": "2024-02-16T11:26:55.167491",
     "exception": false,
     "start_time": "2024-02-16T11:26:52.475834",
     "status": "completed"
    },
    "tags": []
   },
   "outputs": [],
   "source": [
    "# Import necessary libraries\n",
    "import pandas as pd\n",
    "from sklearn.model_selection import train_test_split\n",
    "from catboost import CatBoostClassifier, Pool\n",
    "from sklearn.metrics import roc_auc_score\n",
    "from sklearn.preprocessing import StandardScaler, OneHotEncoder\n",
    "from sklearn.compose import ColumnTransformer\n",
    "from sklearn.pipeline import Pipeline"
   ]
  },
  {
   "cell_type": "code",
   "execution_count": 3,
   "id": "4f5c38d9",
   "metadata": {
    "execution": {
     "iopub.execute_input": "2024-02-16T11:26:55.181701Z",
     "iopub.status.busy": "2024-02-16T11:26:55.181249Z",
     "iopub.status.idle": "2024-02-16T11:26:56.043246Z",
     "shell.execute_reply": "2024-02-16T11:26:56.042275Z"
    },
    "papermill": {
     "duration": 0.872847,
     "end_time": "2024-02-16T11:26:56.046116",
     "exception": false,
     "start_time": "2024-02-16T11:26:55.173269",
     "status": "completed"
    },
    "tags": []
   },
   "outputs": [],
   "source": [
    "# Load the datasets\n",
    "train_data = pd.read_csv('/kaggle/input/playground-series-s4e1/train.csv')\n",
    "test_data = pd.read_csv('/kaggle/input/playground-series-s4e1/test.csv')"
   ]
  },
  {
   "cell_type": "code",
   "execution_count": 4,
   "id": "74ee05d3",
   "metadata": {
    "execution": {
     "iopub.execute_input": "2024-02-16T11:26:56.060061Z",
     "iopub.status.busy": "2024-02-16T11:26:56.059111Z",
     "iopub.status.idle": "2024-02-16T11:26:56.086593Z",
     "shell.execute_reply": "2024-02-16T11:26:56.085543Z"
    },
    "papermill": {
     "duration": 0.03743,
     "end_time": "2024-02-16T11:26:56.089327",
     "exception": false,
     "start_time": "2024-02-16T11:26:56.051897",
     "status": "completed"
    },
    "tags": []
   },
   "outputs": [],
   "source": [
    "# Separate features and target variable\n",
    "X = train_data.drop(['Exited'], axis=1)\n",
    "y = train_data['Exited']"
   ]
  },
  {
   "cell_type": "code",
   "execution_count": 5,
   "id": "663d6f1c",
   "metadata": {
    "execution": {
     "iopub.execute_input": "2024-02-16T11:26:56.102549Z",
     "iopub.status.busy": "2024-02-16T11:26:56.101770Z",
     "iopub.status.idle": "2024-02-16T11:26:56.162145Z",
     "shell.execute_reply": "2024-02-16T11:26:56.161236Z"
    },
    "papermill": {
     "duration": 0.070111,
     "end_time": "2024-02-16T11:26:56.164846",
     "exception": false,
     "start_time": "2024-02-16T11:26:56.094735",
     "status": "completed"
    },
    "tags": []
   },
   "outputs": [],
   "source": [
    "# Split the data into training and validation sets\n",
    "X_train, X_val, y_train, y_val = train_test_split(X, y, test_size=0.2, random_state=42)\n"
   ]
  },
  {
   "cell_type": "code",
   "execution_count": 6,
   "id": "de30b0f3",
   "metadata": {
    "execution": {
     "iopub.execute_input": "2024-02-16T11:26:56.178494Z",
     "iopub.status.busy": "2024-02-16T11:26:56.177771Z",
     "iopub.status.idle": "2024-02-16T11:26:56.208354Z",
     "shell.execute_reply": "2024-02-16T11:26:56.207219Z"
    },
    "papermill": {
     "duration": 0.040842,
     "end_time": "2024-02-16T11:26:56.211282",
     "exception": false,
     "start_time": "2024-02-16T11:26:56.170440",
     "status": "completed"
    },
    "tags": []
   },
   "outputs": [],
   "source": [
    "# Define numerical and categorical features\n",
    "numerical_features = X.select_dtypes(include=['int64', 'float64']).columns\n",
    "categorical_features = X.select_dtypes(include=['object']).columns\n"
   ]
  },
  {
   "cell_type": "code",
   "execution_count": 7,
   "id": "71f99a69",
   "metadata": {
    "execution": {
     "iopub.execute_input": "2024-02-16T11:26:56.224393Z",
     "iopub.status.busy": "2024-02-16T11:26:56.223937Z",
     "iopub.status.idle": "2024-02-16T11:26:56.230812Z",
     "shell.execute_reply": "2024-02-16T11:26:56.229494Z"
    },
    "papermill": {
     "duration": 0.016889,
     "end_time": "2024-02-16T11:26:56.233780",
     "exception": false,
     "start_time": "2024-02-16T11:26:56.216891",
     "status": "completed"
    },
    "tags": []
   },
   "outputs": [],
   "source": [
    "# Create preprocessing pipeline for XGBoost\n",
    "numeric_transformer_xgb = StandardScaler()\n",
    "\n",
    "preprocessor_xgb = ColumnTransformer(\n",
    "    transformers=[\n",
    "        ('num', numeric_transformer_xgb, numerical_features),\n",
    "    ])\n",
    "# Create preprocessing pipeline for CatBoost\n",
    "categorical_transformer_cat = OneHotEncoder(handle_unknown='ignore')"
   ]
  },
  {
   "cell_type": "code",
   "execution_count": 8,
   "id": "2cc25683",
   "metadata": {
    "execution": {
     "iopub.execute_input": "2024-02-16T11:26:56.246290Z",
     "iopub.status.busy": "2024-02-16T11:26:56.245885Z",
     "iopub.status.idle": "2024-02-16T11:26:56.251904Z",
     "shell.execute_reply": "2024-02-16T11:26:56.250541Z"
    },
    "papermill": {
     "duration": 0.015555,
     "end_time": "2024-02-16T11:26:56.254756",
     "exception": false,
     "start_time": "2024-02-16T11:26:56.239201",
     "status": "completed"
    },
    "tags": []
   },
   "outputs": [],
   "source": [
    "preprocessor_cat = ColumnTransformer(\n",
    "    transformers=[\n",
    "        ('num', numeric_transformer_xgb, numerical_features),\n",
    "        ('cat', categorical_transformer_cat, categorical_features)\n",
    "    ])"
   ]
  },
  {
   "cell_type": "code",
   "execution_count": 9,
   "id": "a809b8ac",
   "metadata": {
    "execution": {
     "iopub.execute_input": "2024-02-16T11:26:56.267292Z",
     "iopub.status.busy": "2024-02-16T11:26:56.266848Z",
     "iopub.status.idle": "2024-02-16T11:26:56.277715Z",
     "shell.execute_reply": "2024-02-16T11:26:56.276285Z"
    },
    "papermill": {
     "duration": 0.020326,
     "end_time": "2024-02-16T11:26:56.280549",
     "exception": false,
     "start_time": "2024-02-16T11:26:56.260223",
     "status": "completed"
    },
    "tags": []
   },
   "outputs": [],
   "source": [
    "# Append classifier to preprocessing pipeline\n",
    "cat_clf = Pipeline(steps=[('preprocessor', preprocessor_cat),\n",
    "                           ('classifier', CatBoostClassifier(iterations=100, random_state=42, verbose=0))])"
   ]
  },
  {
   "cell_type": "code",
   "execution_count": 10,
   "id": "d90fe8e9",
   "metadata": {
    "execution": {
     "iopub.execute_input": "2024-02-16T11:26:56.294043Z",
     "iopub.status.busy": "2024-02-16T11:26:56.293605Z",
     "iopub.status.idle": "2024-02-16T11:27:00.507231Z",
     "shell.execute_reply": "2024-02-16T11:27:00.505968Z"
    },
    "papermill": {
     "duration": 4.224038,
     "end_time": "2024-02-16T11:27:00.510251",
     "exception": false,
     "start_time": "2024-02-16T11:26:56.286213",
     "status": "completed"
    },
    "tags": []
   },
   "outputs": [
    {
     "data": {
      "text/html": [
       "<style>#sk-container-id-1 {color: black;background-color: white;}#sk-container-id-1 pre{padding: 0;}#sk-container-id-1 div.sk-toggleable {background-color: white;}#sk-container-id-1 label.sk-toggleable__label {cursor: pointer;display: block;width: 100%;margin-bottom: 0;padding: 0.3em;box-sizing: border-box;text-align: center;}#sk-container-id-1 label.sk-toggleable__label-arrow:before {content: \"▸\";float: left;margin-right: 0.25em;color: #696969;}#sk-container-id-1 label.sk-toggleable__label-arrow:hover:before {color: black;}#sk-container-id-1 div.sk-estimator:hover label.sk-toggleable__label-arrow:before {color: black;}#sk-container-id-1 div.sk-toggleable__content {max-height: 0;max-width: 0;overflow: hidden;text-align: left;background-color: #f0f8ff;}#sk-container-id-1 div.sk-toggleable__content pre {margin: 0.2em;color: black;border-radius: 0.25em;background-color: #f0f8ff;}#sk-container-id-1 input.sk-toggleable__control:checked~div.sk-toggleable__content {max-height: 200px;max-width: 100%;overflow: auto;}#sk-container-id-1 input.sk-toggleable__control:checked~label.sk-toggleable__label-arrow:before {content: \"▾\";}#sk-container-id-1 div.sk-estimator input.sk-toggleable__control:checked~label.sk-toggleable__label {background-color: #d4ebff;}#sk-container-id-1 div.sk-label input.sk-toggleable__control:checked~label.sk-toggleable__label {background-color: #d4ebff;}#sk-container-id-1 input.sk-hidden--visually {border: 0;clip: rect(1px 1px 1px 1px);clip: rect(1px, 1px, 1px, 1px);height: 1px;margin: -1px;overflow: hidden;padding: 0;position: absolute;width: 1px;}#sk-container-id-1 div.sk-estimator {font-family: monospace;background-color: #f0f8ff;border: 1px dotted black;border-radius: 0.25em;box-sizing: border-box;margin-bottom: 0.5em;}#sk-container-id-1 div.sk-estimator:hover {background-color: #d4ebff;}#sk-container-id-1 div.sk-parallel-item::after {content: \"\";width: 100%;border-bottom: 1px solid gray;flex-grow: 1;}#sk-container-id-1 div.sk-label:hover label.sk-toggleable__label {background-color: #d4ebff;}#sk-container-id-1 div.sk-serial::before {content: \"\";position: absolute;border-left: 1px solid gray;box-sizing: border-box;top: 0;bottom: 0;left: 50%;z-index: 0;}#sk-container-id-1 div.sk-serial {display: flex;flex-direction: column;align-items: center;background-color: white;padding-right: 0.2em;padding-left: 0.2em;position: relative;}#sk-container-id-1 div.sk-item {position: relative;z-index: 1;}#sk-container-id-1 div.sk-parallel {display: flex;align-items: stretch;justify-content: center;background-color: white;position: relative;}#sk-container-id-1 div.sk-item::before, #sk-container-id-1 div.sk-parallel-item::before {content: \"\";position: absolute;border-left: 1px solid gray;box-sizing: border-box;top: 0;bottom: 0;left: 50%;z-index: -1;}#sk-container-id-1 div.sk-parallel-item {display: flex;flex-direction: column;z-index: 1;position: relative;background-color: white;}#sk-container-id-1 div.sk-parallel-item:first-child::after {align-self: flex-end;width: 50%;}#sk-container-id-1 div.sk-parallel-item:last-child::after {align-self: flex-start;width: 50%;}#sk-container-id-1 div.sk-parallel-item:only-child::after {width: 0;}#sk-container-id-1 div.sk-dashed-wrapped {border: 1px dashed gray;margin: 0 0.4em 0.5em 0.4em;box-sizing: border-box;padding-bottom: 0.4em;background-color: white;}#sk-container-id-1 div.sk-label label {font-family: monospace;font-weight: bold;display: inline-block;line-height: 1.2em;}#sk-container-id-1 div.sk-label-container {text-align: center;}#sk-container-id-1 div.sk-container {/* jupyter's `normalize.less` sets `[hidden] { display: none; }` but bootstrap.min.css set `[hidden] { display: none !important; }` so we also need the `!important` here to be able to override the default hidden behavior on the sphinx rendered scikit-learn.org. See: https://github.com/scikit-learn/scikit-learn/issues/21755 */display: inline-block !important;position: relative;}#sk-container-id-1 div.sk-text-repr-fallback {display: none;}</style><div id=\"sk-container-id-1\" class=\"sk-top-container\"><div class=\"sk-text-repr-fallback\"><pre>Pipeline(steps=[(&#x27;preprocessor&#x27;,\n",
       "                 ColumnTransformer(transformers=[(&#x27;num&#x27;, StandardScaler(),\n",
       "                                                  Index([&#x27;id&#x27;, &#x27;CustomerId&#x27;, &#x27;CreditScore&#x27;, &#x27;Age&#x27;, &#x27;Tenure&#x27;, &#x27;Balance&#x27;,\n",
       "       &#x27;NumOfProducts&#x27;, &#x27;HasCrCard&#x27;, &#x27;IsActiveMember&#x27;, &#x27;EstimatedSalary&#x27;],\n",
       "      dtype=&#x27;object&#x27;)),\n",
       "                                                 (&#x27;cat&#x27;,\n",
       "                                                  OneHotEncoder(handle_unknown=&#x27;ignore&#x27;),\n",
       "                                                  Index([&#x27;Surname&#x27;, &#x27;Geography&#x27;, &#x27;Gender&#x27;], dtype=&#x27;object&#x27;))])),\n",
       "                (&#x27;classifier&#x27;,\n",
       "                 &lt;catboost.core.CatBoostClassifier object at 0x784c6bcbd390&gt;)])</pre><b>In a Jupyter environment, please rerun this cell to show the HTML representation or trust the notebook. <br />On GitHub, the HTML representation is unable to render, please try loading this page with nbviewer.org.</b></div><div class=\"sk-container\" hidden><div class=\"sk-item sk-dashed-wrapped\"><div class=\"sk-label-container\"><div class=\"sk-label sk-toggleable\"><input class=\"sk-toggleable__control sk-hidden--visually\" id=\"sk-estimator-id-1\" type=\"checkbox\" ><label for=\"sk-estimator-id-1\" class=\"sk-toggleable__label sk-toggleable__label-arrow\">Pipeline</label><div class=\"sk-toggleable__content\"><pre>Pipeline(steps=[(&#x27;preprocessor&#x27;,\n",
       "                 ColumnTransformer(transformers=[(&#x27;num&#x27;, StandardScaler(),\n",
       "                                                  Index([&#x27;id&#x27;, &#x27;CustomerId&#x27;, &#x27;CreditScore&#x27;, &#x27;Age&#x27;, &#x27;Tenure&#x27;, &#x27;Balance&#x27;,\n",
       "       &#x27;NumOfProducts&#x27;, &#x27;HasCrCard&#x27;, &#x27;IsActiveMember&#x27;, &#x27;EstimatedSalary&#x27;],\n",
       "      dtype=&#x27;object&#x27;)),\n",
       "                                                 (&#x27;cat&#x27;,\n",
       "                                                  OneHotEncoder(handle_unknown=&#x27;ignore&#x27;),\n",
       "                                                  Index([&#x27;Surname&#x27;, &#x27;Geography&#x27;, &#x27;Gender&#x27;], dtype=&#x27;object&#x27;))])),\n",
       "                (&#x27;classifier&#x27;,\n",
       "                 &lt;catboost.core.CatBoostClassifier object at 0x784c6bcbd390&gt;)])</pre></div></div></div><div class=\"sk-serial\"><div class=\"sk-item sk-dashed-wrapped\"><div class=\"sk-label-container\"><div class=\"sk-label sk-toggleable\"><input class=\"sk-toggleable__control sk-hidden--visually\" id=\"sk-estimator-id-2\" type=\"checkbox\" ><label for=\"sk-estimator-id-2\" class=\"sk-toggleable__label sk-toggleable__label-arrow\">preprocessor: ColumnTransformer</label><div class=\"sk-toggleable__content\"><pre>ColumnTransformer(transformers=[(&#x27;num&#x27;, StandardScaler(),\n",
       "                                 Index([&#x27;id&#x27;, &#x27;CustomerId&#x27;, &#x27;CreditScore&#x27;, &#x27;Age&#x27;, &#x27;Tenure&#x27;, &#x27;Balance&#x27;,\n",
       "       &#x27;NumOfProducts&#x27;, &#x27;HasCrCard&#x27;, &#x27;IsActiveMember&#x27;, &#x27;EstimatedSalary&#x27;],\n",
       "      dtype=&#x27;object&#x27;)),\n",
       "                                (&#x27;cat&#x27;, OneHotEncoder(handle_unknown=&#x27;ignore&#x27;),\n",
       "                                 Index([&#x27;Surname&#x27;, &#x27;Geography&#x27;, &#x27;Gender&#x27;], dtype=&#x27;object&#x27;))])</pre></div></div></div><div class=\"sk-parallel\"><div class=\"sk-parallel-item\"><div class=\"sk-item\"><div class=\"sk-label-container\"><div class=\"sk-label sk-toggleable\"><input class=\"sk-toggleable__control sk-hidden--visually\" id=\"sk-estimator-id-3\" type=\"checkbox\" ><label for=\"sk-estimator-id-3\" class=\"sk-toggleable__label sk-toggleable__label-arrow\">num</label><div class=\"sk-toggleable__content\"><pre>Index([&#x27;id&#x27;, &#x27;CustomerId&#x27;, &#x27;CreditScore&#x27;, &#x27;Age&#x27;, &#x27;Tenure&#x27;, &#x27;Balance&#x27;,\n",
       "       &#x27;NumOfProducts&#x27;, &#x27;HasCrCard&#x27;, &#x27;IsActiveMember&#x27;, &#x27;EstimatedSalary&#x27;],\n",
       "      dtype=&#x27;object&#x27;)</pre></div></div></div><div class=\"sk-serial\"><div class=\"sk-item\"><div class=\"sk-estimator sk-toggleable\"><input class=\"sk-toggleable__control sk-hidden--visually\" id=\"sk-estimator-id-4\" type=\"checkbox\" ><label for=\"sk-estimator-id-4\" class=\"sk-toggleable__label sk-toggleable__label-arrow\">StandardScaler</label><div class=\"sk-toggleable__content\"><pre>StandardScaler()</pre></div></div></div></div></div></div><div class=\"sk-parallel-item\"><div class=\"sk-item\"><div class=\"sk-label-container\"><div class=\"sk-label sk-toggleable\"><input class=\"sk-toggleable__control sk-hidden--visually\" id=\"sk-estimator-id-5\" type=\"checkbox\" ><label for=\"sk-estimator-id-5\" class=\"sk-toggleable__label sk-toggleable__label-arrow\">cat</label><div class=\"sk-toggleable__content\"><pre>Index([&#x27;Surname&#x27;, &#x27;Geography&#x27;, &#x27;Gender&#x27;], dtype=&#x27;object&#x27;)</pre></div></div></div><div class=\"sk-serial\"><div class=\"sk-item\"><div class=\"sk-estimator sk-toggleable\"><input class=\"sk-toggleable__control sk-hidden--visually\" id=\"sk-estimator-id-6\" type=\"checkbox\" ><label for=\"sk-estimator-id-6\" class=\"sk-toggleable__label sk-toggleable__label-arrow\">OneHotEncoder</label><div class=\"sk-toggleable__content\"><pre>OneHotEncoder(handle_unknown=&#x27;ignore&#x27;)</pre></div></div></div></div></div></div></div></div><div class=\"sk-item\"><div class=\"sk-estimator sk-toggleable\"><input class=\"sk-toggleable__control sk-hidden--visually\" id=\"sk-estimator-id-7\" type=\"checkbox\" ><label for=\"sk-estimator-id-7\" class=\"sk-toggleable__label sk-toggleable__label-arrow\">CatBoostClassifier</label><div class=\"sk-toggleable__content\"><pre>&lt;catboost.core.CatBoostClassifier object at 0x784c6bcbd390&gt;</pre></div></div></div></div></div></div></div>"
      ],
      "text/plain": [
       "Pipeline(steps=[('preprocessor',\n",
       "                 ColumnTransformer(transformers=[('num', StandardScaler(),\n",
       "                                                  Index(['id', 'CustomerId', 'CreditScore', 'Age', 'Tenure', 'Balance',\n",
       "       'NumOfProducts', 'HasCrCard', 'IsActiveMember', 'EstimatedSalary'],\n",
       "      dtype='object')),\n",
       "                                                 ('cat',\n",
       "                                                  OneHotEncoder(handle_unknown='ignore'),\n",
       "                                                  Index(['Surname', 'Geography', 'Gender'], dtype='object'))])),\n",
       "                ('classifier',\n",
       "                 <catboost.core.CatBoostClassifier object at 0x784c6bcbd390>)])"
      ]
     },
     "execution_count": 10,
     "metadata": {},
     "output_type": "execute_result"
    }
   ],
   "source": [
    "# Fit the CatBoost model\n",
    "cat_clf.fit(X_train, y_train)"
   ]
  },
  {
   "cell_type": "code",
   "execution_count": 11,
   "id": "51894ff8",
   "metadata": {
    "execution": {
     "iopub.execute_input": "2024-02-16T11:27:00.524040Z",
     "iopub.status.busy": "2024-02-16T11:27:00.523594Z",
     "iopub.status.idle": "2024-02-16T11:27:01.048457Z",
     "shell.execute_reply": "2024-02-16T11:27:01.046935Z"
    },
    "papermill": {
     "duration": 0.535422,
     "end_time": "2024-02-16T11:27:01.051423",
     "exception": false,
     "start_time": "2024-02-16T11:27:00.516001",
     "status": "completed"
    },
    "tags": []
   },
   "outputs": [],
   "source": [
    "test_predictions_cat = cat_clf.predict_proba(test_data)[:, 1]"
   ]
  },
  {
   "cell_type": "code",
   "execution_count": 12,
   "id": "09c05989",
   "metadata": {
    "execution": {
     "iopub.execute_input": "2024-02-16T11:27:01.066326Z",
     "iopub.status.busy": "2024-02-16T11:27:01.065084Z",
     "iopub.status.idle": "2024-02-16T11:27:01.446772Z",
     "shell.execute_reply": "2024-02-16T11:27:01.445454Z"
    },
    "papermill": {
     "duration": 0.392432,
     "end_time": "2024-02-16T11:27:01.449910",
     "exception": false,
     "start_time": "2024-02-16T11:27:01.057478",
     "status": "completed"
    },
    "tags": []
   },
   "outputs": [],
   "source": [
    "# Create submission file\n",
    "submission_df = pd.DataFrame({'id': test_data['id'], 'Exited': test_predictions_cat})\n",
    "submission_df.to_csv('submission.csv', index=False)"
   ]
  },
  {
   "cell_type": "code",
   "execution_count": null,
   "id": "4b3e6131",
   "metadata": {
    "papermill": {
     "duration": 0.005419,
     "end_time": "2024-02-16T11:27:01.461298",
     "exception": false,
     "start_time": "2024-02-16T11:27:01.455879",
     "status": "completed"
    },
    "tags": []
   },
   "outputs": [],
   "source": []
  }
 ],
 "metadata": {
  "kaggle": {
   "accelerator": "none",
   "dataSources": [
    {
     "databundleVersionId": 7405009,
     "sourceId": 65711,
     "sourceType": "competition"
    }
   ],
   "isGpuEnabled": false,
   "isInternetEnabled": true,
   "language": "python",
   "sourceType": "notebook"
  },
  "kernelspec": {
   "display_name": "Python 3",
   "language": "python",
   "name": "python3"
  },
  "language_info": {
   "codemirror_mode": {
    "name": "ipython",
    "version": 3
   },
   "file_extension": ".py",
   "mimetype": "text/x-python",
   "name": "python",
   "nbconvert_exporter": "python",
   "pygments_lexer": "ipython3",
   "version": "3.10.13"
  },
  "papermill": {
   "default_parameters": {},
   "duration": 14.180689,
   "end_time": "2024-02-16T11:27:02.189831",
   "environment_variables": {},
   "exception": null,
   "input_path": "__notebook__.ipynb",
   "output_path": "__notebook__.ipynb",
   "parameters": {},
   "start_time": "2024-02-16T11:26:48.009142",
   "version": "2.5.0"
  }
 },
 "nbformat": 4,
 "nbformat_minor": 5
}
